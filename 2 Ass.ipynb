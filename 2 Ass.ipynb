{
 "cells": [
  {
   "cell_type": "markdown",
   "id": "7c67c64e-2ad6-4888-a6ad-2807630c3bc5",
   "metadata": {},
   "source": [
    "Q1. How do you comment code in Python? What are the different types of comments?\n",
    "Q2. What are variables in Python? How do you declare and assign values to variables?\n",
    "Q3. How do you convert one data type to another in Python?\n",
    "Q4. How do you write and execute a Python script from the command line?\n",
    "Q5. Given a list my_list = [1, 2, 3, 4, 5], write the code to slice the list and obtain the sub-list [2, 3].\n",
    "Q6. What is a complex number in mathematics, and how is it represented in Python?\n",
    "Q7. What is the correct way to declare a variable named age and assign the value 25 to it?\n",
    "Q8. Declare a variable named price and assign the value 9.99 to it. What data type does this variable\n",
    "belong to?\n",
    "Q9. Create a variable named name and assign your full name to it as a string. How would you print the\n",
    "value of this variable?\n",
    "Q10. Given the string \"Hello, World!\", extract the substring \"World\".\n",
    "Q11. Create a variable named \"is_student\" and assign it a boolean value indicating whether you are\n",
    "currently a student or not."
   ]
  },
  {
   "cell_type": "code",
   "execution_count": 1,
   "id": "47874a3e-d88e-43ca-bdea-f28b5f7b14a4",
   "metadata": {},
   "outputs": [],
   "source": [
    "# commnt in python"
   ]
  },
  {
   "cell_type": "code",
   "execution_count": 2,
   "id": "e8394f82-490a-4134-a2ca-32617c4631c7",
   "metadata": {},
   "outputs": [
    {
     "data": {
      "text/plain": [
       "'Q1. How do you comment code in Python? What are the different types of comments?\\nQ2. What are variables in Python? How do you declare and assign values to variables?\\nQ3. How do you convert one data type to another in Python?\\nQ4. How do you write and execute a Python script from the command line?\\nQ5. Given a list my_list = [1, 2, 3, 4, 5], write the code to slice the list and obtain the sub-list [2, 3].\\nQ6. What is a complex number in mathematics, and how is it represented in Python?\\nQ7. What is the correct way to declare a variable named age and assign the value 25 to it?\\nQ8. Declare a variable named price and assign the value 9.99 to it. What data type does this variable\\nbelong to?\\nQ9. Create a variable named name and assign your full name to it as a string. How would you print the\\nvalue of this variable?\\nQ10. Given the string \"Hello, World!\", extract the substring \"World\".\\nQ11. Create a variable named \"is_student\" and assign it a boolean value indicating whether you are\\ncurrently a student or not.'"
      ]
     },
     "execution_count": 2,
     "metadata": {},
     "output_type": "execute_result"
    }
   ],
   "source": [
    "'''Q1. How do you comment code in Python? What are the different types of comments?\n",
    "Q2. What are variables in Python? How do you declare and assign values to variables?\n",
    "Q3. How do you convert one data type to another in Python?\n",
    "Q4. How do you write and execute a Python script from the command line?\n",
    "Q5. Given a list my_list = [1, 2, 3, 4, 5], write the code to slice the list and obtain the sub-list [2, 3].\n",
    "Q6. What is a complex number in mathematics, and how is it represented in Python?\n",
    "Q7. What is the correct way to declare a variable named age and assign the value 25 to it?\n",
    "Q8. Declare a variable named price and assign the value 9.99 to it. What data type does this variable\n",
    "belong to?\n",
    "Q9. Create a variable named name and assign your full name to it as a string. How would you print the\n",
    "value of this variable?\n",
    "Q10. Given the string \"Hello, World!\", extract the substring \"World\".\n",
    "Q11. Create a variable named \"is_student\" and assign it a boolean value indicating whether you are\n",
    "currently a student or not.'''"
   ]
  },
  {
   "cell_type": "code",
   "execution_count": 3,
   "id": "272e5587-ebfa-4856-8499-0111e2fff999",
   "metadata": {},
   "outputs": [],
   "source": [
    "#q.2"
   ]
  },
  {
   "cell_type": "code",
   "execution_count": 8,
   "id": "97bccb8f-e22a-411c-8b51-1e461e48c244",
   "metadata": {},
   "outputs": [
    {
     "name": "stdout",
     "output_type": "stream",
     "text": [
      "<class 'int'>\n",
      "<class 'float'>\n",
      "<class 'str'>\n",
      "<class 'complex'>\n",
      "<class 'bool'>\n",
      "<class 'int'>\n",
      "<class 'int'>\n"
     ]
    }
   ],
   "source": [
    "g = [1,2.3,\"ram\",4+5j,True,5,6]\n",
    "for i in g :\n",
    "    print(type(i))"
   ]
  },
  {
   "cell_type": "code",
   "execution_count": 9,
   "id": "cb40e805-8f9d-48c8-8a6f-45396ddafe8e",
   "metadata": {},
   "outputs": [],
   "source": [
    "#q3"
   ]
  },
  {
   "cell_type": "code",
   "execution_count": 11,
   "id": "155fa5ee-a21e-4392-8c71-666378771449",
   "metadata": {},
   "outputs": [
    {
     "data": {
      "text/plain": [
       "int"
      ]
     },
     "execution_count": 11,
     "metadata": {},
     "output_type": "execute_result"
    }
   ],
   "source": [
    "a= 123\n",
    "type(a)\n"
   ]
  },
  {
   "cell_type": "code",
   "execution_count": 12,
   "id": "56efc13f-0c0c-4a90-89e0-230259fe08be",
   "metadata": {},
   "outputs": [
    {
     "data": {
      "text/plain": [
       "str"
      ]
     },
     "execution_count": 12,
     "metadata": {},
     "output_type": "execute_result"
    }
   ],
   "source": [
    "\n",
    "a=str(a)\n",
    "type(a)"
   ]
  },
  {
   "cell_type": "code",
   "execution_count": 13,
   "id": "30b891ba-73f3-400f-93ec-eec77fc21ea7",
   "metadata": {},
   "outputs": [],
   "source": [
    "#q5"
   ]
  },
  {
   "cell_type": "code",
   "execution_count": 14,
   "id": "e163863d-f064-4578-af83-e5f1df356b43",
   "metadata": {},
   "outputs": [],
   "source": [
    "my_list = [1, 2, 3, 4, 5]"
   ]
  },
  {
   "cell_type": "code",
   "execution_count": 15,
   "id": "7b01e72a-b237-4b3b-a692-6de88c0c93fa",
   "metadata": {},
   "outputs": [
    {
     "data": {
      "text/plain": [
       "[2, 3]"
      ]
     },
     "execution_count": 15,
     "metadata": {},
     "output_type": "execute_result"
    }
   ],
   "source": [
    "my_list[1:3]"
   ]
  },
  {
   "cell_type": "code",
   "execution_count": 16,
   "id": "4c3b25f2-06f2-4835-aac2-74cf17a6c727",
   "metadata": {},
   "outputs": [],
   "source": [
    "#6"
   ]
  },
  {
   "cell_type": "markdown",
   "id": "a23f580e-48aa-416c-87d5-618c322caca0",
   "metadata": {},
   "source": [
    "\n",
    "In mathematics, a complex number is a number that can be expressed in the form a + bi, where a and b are real numbers and i represents the imaginary.\n",
    "z1 = complex(3, 2)  , (3+2j)\n",
    "z2 = complex(-1, 0.5)  , (-1+0.5j)\n",
    "\n",
    "\n"
   ]
  },
  {
   "cell_type": "code",
   "execution_count": 19,
   "id": "9b7cec14-8083-4023-8e32-a62d7f0f993b",
   "metadata": {},
   "outputs": [],
   "source": [
    "c =(-1+0.5j)"
   ]
  },
  {
   "cell_type": "code",
   "execution_count": 20,
   "id": "e063e89c-892d-42ec-b64a-5bf662657cde",
   "metadata": {},
   "outputs": [
    {
     "data": {
      "text/plain": [
       "complex"
      ]
     },
     "execution_count": 20,
     "metadata": {},
     "output_type": "execute_result"
    }
   ],
   "source": [
    "type(c)"
   ]
  },
  {
   "cell_type": "code",
   "execution_count": 21,
   "id": "74777a56-a9af-473f-833c-ae2bc4d41816",
   "metadata": {},
   "outputs": [],
   "source": [
    "#q7"
   ]
  },
  {
   "cell_type": "code",
   "execution_count": 22,
   "id": "434e9f90-6c2d-4791-8e00-32e135bda689",
   "metadata": {},
   "outputs": [],
   "source": [
    "Age =25"
   ]
  },
  {
   "cell_type": "code",
   "execution_count": 23,
   "id": "4e530873-0719-4fa5-b7a9-e2947fbfc582",
   "metadata": {},
   "outputs": [
    {
     "data": {
      "text/plain": [
       "int"
      ]
     },
     "execution_count": 23,
     "metadata": {},
     "output_type": "execute_result"
    }
   ],
   "source": [
    "type(Age)"
   ]
  },
  {
   "cell_type": "code",
   "execution_count": 25,
   "id": "191477ea-91bf-49c4-a992-53e6ef799e64",
   "metadata": {},
   "outputs": [],
   "source": [
    "#q8"
   ]
  },
  {
   "cell_type": "code",
   "execution_count": 24,
   "id": "82509026-7d76-4d87-b09d-ed5bb9a1fd4d",
   "metadata": {},
   "outputs": [],
   "source": [
    "Price =9.99"
   ]
  },
  {
   "cell_type": "code",
   "execution_count": 26,
   "id": "33fd5b2e-28b2-4567-a9d0-9cde9b3bb8e2",
   "metadata": {},
   "outputs": [
    {
     "data": {
      "text/plain": [
       "float"
      ]
     },
     "execution_count": 26,
     "metadata": {},
     "output_type": "execute_result"
    }
   ],
   "source": [
    "type(Price)"
   ]
  },
  {
   "cell_type": "code",
   "execution_count": 27,
   "id": "dac185db-631d-4a5c-a39a-7108d630d42f",
   "metadata": {},
   "outputs": [],
   "source": [
    "#9 my name"
   ]
  },
  {
   "cell_type": "code",
   "execution_count": 28,
   "id": "242f2104-c527-4ca8-b6ef-f5490a127168",
   "metadata": {},
   "outputs": [],
   "source": [
    "Me = \"Vishnu Datta\""
   ]
  },
  {
   "cell_type": "code",
   "execution_count": 29,
   "id": "b9012d5b-ce26-491e-96c0-f4ce0adcd498",
   "metadata": {},
   "outputs": [
    {
     "data": {
      "text/plain": [
       "'Vishnu Datta'"
      ]
     },
     "execution_count": 29,
     "metadata": {},
     "output_type": "execute_result"
    }
   ],
   "source": [
    "Me"
   ]
  },
  {
   "cell_type": "code",
   "execution_count": 31,
   "id": "7d731d5f-186e-451e-b1e0-71ee8d6d5851",
   "metadata": {},
   "outputs": [],
   "source": [
    "Print = \"Hello World!\""
   ]
  },
  {
   "cell_type": "code",
   "execution_count": 32,
   "id": "158a35fc-aa01-4ff5-b1ad-2806adea79f7",
   "metadata": {},
   "outputs": [
    {
     "data": {
      "text/plain": [
       "'World!'"
      ]
     },
     "execution_count": 32,
     "metadata": {},
     "output_type": "execute_result"
    }
   ],
   "source": [
    "Print[6:]"
   ]
  },
  {
   "cell_type": "code",
   "execution_count": null,
   "id": "603a794c-11f6-461d-b7f9-fd1887613112",
   "metadata": {},
   "outputs": [],
   "source": []
  }
 ],
 "metadata": {
  "kernelspec": {
   "display_name": "Python 3 (ipykernel)",
   "language": "python",
   "name": "python3"
  },
  "language_info": {
   "codemirror_mode": {
    "name": "ipython",
    "version": 3
   },
   "file_extension": ".py",
   "mimetype": "text/x-python",
   "name": "python",
   "nbconvert_exporter": "python",
   "pygments_lexer": "ipython3",
   "version": "3.10.8"
  }
 },
 "nbformat": 4,
 "nbformat_minor": 5
}
