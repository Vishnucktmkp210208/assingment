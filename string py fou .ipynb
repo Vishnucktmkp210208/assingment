{
 "cells": [
  {
   "cell_type": "markdown",
   "id": "3c4e108a-5517-472f-815b-de24f5d2173c",
   "metadata": {},
   "source": [
    "Q 1 . How can we store a s1ngle quote (‘) as a str1ng 1n a var1able?"
   ]
  },
  {
   "cell_type": "code",
   "execution_count": 6,
   "id": "c5aa8d64-40bc-461e-b395-964f8ef2b796",
   "metadata": {},
   "outputs": [],
   "source": [
    "a = \" ' \""
   ]
  },
  {
   "cell_type": "code",
   "execution_count": 7,
   "id": "050d4ee0-39f8-46f9-bab0-35612f451769",
   "metadata": {},
   "outputs": [
    {
     "data": {
      "text/plain": [
       "\" ' \""
      ]
     },
     "execution_count": 7,
     "metadata": {},
     "output_type": "execute_result"
    }
   ],
   "source": [
    "a"
   ]
  },
  {
   "cell_type": "markdown",
   "id": "6c3f1820-aed8-43a6-b84f-74f8cf7e1efe",
   "metadata": {},
   "source": [
    "Q 2 . Refer the below var1able:\n",
    "x = ‘a(\n",
    "Here, 1s x a character type or str1ng type var1able? Support your answer w1th an explanat1on."
   ]
  },
  {
   "cell_type": "code",
   "execution_count": 8,
   "id": "535ceeb2-1c07-4144-a3c2-2c1b5811c0db",
   "metadata": {},
   "outputs": [],
   "source": [
    "x = \"a\""
   ]
  },
  {
   "cell_type": "code",
   "execution_count": 9,
   "id": "a0bbb939-d34e-44c0-8a06-1279e9649996",
   "metadata": {},
   "outputs": [
    {
     "data": {
      "text/plain": [
       "'a'"
      ]
     },
     "execution_count": 9,
     "metadata": {},
     "output_type": "execute_result"
    }
   ],
   "source": [
    "x"
   ]
  },
  {
   "cell_type": "code",
   "execution_count": 10,
   "id": "d5cf536a-98f8-4f4f-bb22-aa16d9701d5d",
   "metadata": {},
   "outputs": [
    {
     "data": {
      "text/plain": [
       "str"
      ]
     },
     "execution_count": 10,
     "metadata": {},
     "output_type": "execute_result"
    }
   ],
   "source": [
    "type(x)"
   ]
  },
  {
   "cell_type": "markdown",
   "id": "1f9939c4-d48e-4b13-bc47-f379abc287c4",
   "metadata": {},
   "source": [
    "ans = str"
   ]
  },
  {
   "cell_type": "markdown",
   "id": "b7aaa70c-92c9-43fc-a1fc-d9826f1e3691",
   "metadata": {},
   "source": [
    "Q3 . Apply the follow1ng funct1ons on th1s var1able: ‘Welcome to Python foun at1on course'\n",
    "1. f1n ()\n",
    "2. count()\n",
    "3. len()\n",
    "4. Concatenat1on\n",
    "Note: You can use your cho1ce of parametersQ But make sure 1t 1s correct."
   ]
  },
  {
   "cell_type": "code",
   "execution_count": 21,
   "id": "09910504-c660-40db-b2b0-2e7b5b3b23ce",
   "metadata": {},
   "outputs": [],
   "source": [
    "ta = \"Welcome to Python foundation cours\""
   ]
  },
  {
   "cell_type": "code",
   "execution_count": 22,
   "id": "c98564dd-4ccf-451a-aac4-2eca19d44875",
   "metadata": {},
   "outputs": [
    {
     "data": {
      "text/plain": [
       "8"
      ]
     },
     "execution_count": 22,
     "metadata": {},
     "output_type": "execute_result"
    }
   ],
   "source": [
    "ta.find(\"to\")"
   ]
  },
  {
   "cell_type": "code",
   "execution_count": 23,
   "id": "4b5f16db-53c4-4c8f-9d1d-e6a07dc7382f",
   "metadata": {},
   "outputs": [
    {
     "data": {
      "text/plain": [
       "6"
      ]
     },
     "execution_count": 23,
     "metadata": {},
     "output_type": "execute_result"
    }
   ],
   "source": [
    "ta.count(\"o\")"
   ]
  },
  {
   "cell_type": "code",
   "execution_count": 24,
   "id": "dd4d21cf-8efe-4695-ba96-bd16b8aff9d2",
   "metadata": {},
   "outputs": [
    {
     "data": {
      "text/plain": [
       "34"
      ]
     },
     "execution_count": 24,
     "metadata": {},
     "output_type": "execute_result"
    }
   ],
   "source": [
    "len(ta)"
   ]
  },
  {
   "cell_type": "code",
   "execution_count": 32,
   "id": "cd5898ce-791e-492d-b816-43df109da9e1",
   "metadata": {},
   "outputs": [],
   "source": [
    "t = \"pw\""
   ]
  },
  {
   "cell_type": "code",
   "execution_count": 33,
   "id": "b40ec8ad-a8cc-459e-8887-00823eff2062",
   "metadata": {},
   "outputs": [
    {
     "data": {
      "text/plain": [
       "'Welcome to Python foundation courspw'"
      ]
     },
     "execution_count": 33,
     "metadata": {},
     "output_type": "execute_result"
    }
   ],
   "source": [
    "ta + t"
   ]
  },
  {
   "cell_type": "markdown",
   "id": "298f561d-1e66-436b-876e-daf0ab784c01",
   "metadata": {},
   "source": [
    "Q4 . For the var1able: wor = ‘PanaJ1@12256'\n",
    "Calculate the follow1ng:\n",
    "(a) Total number of alphabets 1n lowercase\n",
    "(b) Total number of alphabets 1n uppercase\n",
    "(c) Total number of numer1cal 1n str1ng"
   ]
  },
  {
   "cell_type": "code",
   "execution_count": 40,
   "id": "ec247c78-4a10-412e-bd7d-01fc9e3e5944",
   "metadata": {},
   "outputs": [],
   "source": [
    "wor = \"PanaJ1@12256\""
   ]
  },
  {
   "cell_type": "code",
   "execution_count": 41,
   "id": "2de20f8b-1d67-43c4-bbac-1f48225fc1d0",
   "metadata": {},
   "outputs": [
    {
     "data": {
      "text/plain": [
       "'PANAJ1@12256'"
      ]
     },
     "execution_count": 41,
     "metadata": {},
     "output_type": "execute_result"
    }
   ],
   "source": [
    "wor.upper()"
   ]
  },
  {
   "cell_type": "markdown",
   "id": "e6c6bf12-19ec-4c6f-94f8-97e5eba8a6db",
   "metadata": {},
   "source": [
    "Q5. Wr1te a co e to store a numer1cal value 1ns1 e a var1able then convert 1t 1nto str1ngQ"
   ]
  },
  {
   "cell_type": "code",
   "execution_count": null,
   "id": "b422f15d-d80d-4e47-8d83-19a313fc40c8",
   "metadata": {},
   "outputs": [],
   "source": [
    "a ="
   ]
  }
 ],
 "metadata": {
  "kernelspec": {
   "display_name": "Python 3 (ipykernel)",
   "language": "python",
   "name": "python3"
  },
  "language_info": {
   "codemirror_mode": {
    "name": "ipython",
    "version": 3
   },
   "file_extension": ".py",
   "mimetype": "text/x-python",
   "name": "python",
   "nbconvert_exporter": "python",
   "pygments_lexer": "ipython3",
   "version": "3.10.8"
  }
 },
 "nbformat": 4,
 "nbformat_minor": 5
}
