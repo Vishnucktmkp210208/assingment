{
 "cells": [
  {
   "cell_type": "markdown",
   "id": "41f2f4bd-9485-4013-9c01-e837b017bfde",
   "metadata": {},
   "source": [
    "Q1. Create one variable containing following type of data:\n",
    "(i) string\n",
    "(ii) list\n",
    "(iii) float\n",
    "(iv) tuple"
   ]
  },
  {
   "cell_type": "code",
   "execution_count": 1,
   "id": "35a61d1a-28f5-4714-b68a-da526c3875f5",
   "metadata": {},
   "outputs": [],
   "source": [
    "string =\"string\"\n",
    "list = [\"a\",\"b\",\"c\"]\n",
    "float = 12.5\n",
    "tuple = (12,True ,12.2,\"tip\")"
   ]
  },
  {
   "cell_type": "code",
   "execution_count": 2,
   "id": "6b2bb6ae-bf48-4faf-a33d-37b1fc046574",
   "metadata": {},
   "outputs": [
    {
     "data": {
      "text/plain": [
       "tuple"
      ]
     },
     "execution_count": 2,
     "metadata": {},
     "output_type": "execute_result"
    }
   ],
   "source": [
    "type(tuple)"
   ]
  },
  {
   "cell_type": "markdown",
   "id": "0c7b8765-abcb-4f18-8188-46e928337704",
   "metadata": {},
   "source": [
    "Q2. Given are some following variables containing data:\n",
    "(i) var1 = ‘ ‘\n",
    "(ii) var2 = ‘[ DS , ML , Python]’\n",
    "(iii) var3 = [ ‘DS’ , ’ML’ , ‘Python’ ]\n",
    "(iv) var4 = 1."
   ]
  },
  {
   "cell_type": "markdown",
   "id": "f95ca173-7a7f-42f1-ad05-de0a9a4e9802",
   "metadata": {},
   "source": [
    "the data type of the above given variable"
   ]
  },
  {
   "cell_type": "markdown",
   "id": "ca15abd9-6cfc-40d8-ade4-c2d85c291674",
   "metadata": {},
   "source": [
    " Ans - \n",
    " (i) str (ii) str (iii) list (iv) float\n"
   ]
  },
  {
   "cell_type": "markdown",
   "id": "2f2da288-756c-44a4-982d-fa0bc6950315",
   "metadata": {},
   "source": [
    "Q3. Explain the use of the following operators using an example:\n",
    "(i) /\n",
    "(ii) %\n",
    "(iii) //\n",
    "(iv) **"
   ]
  },
  {
   "cell_type": "code",
   "execution_count": 4,
   "id": "737e4be4-fe6d-430b-856e-a6dadfdaf7be",
   "metadata": {},
   "outputs": [],
   "source": [
    "#(i) / (Divider)"
   ]
  },
  {
   "cell_type": "code",
   "execution_count": 5,
   "id": "379b7859-28f1-4eb0-b853-4ba8e36ed69e",
   "metadata": {},
   "outputs": [
    {
     "data": {
      "text/plain": [
       "2.5"
      ]
     },
     "execution_count": 5,
     "metadata": {},
     "output_type": "execute_result"
    }
   ],
   "source": [
    "5/2"
   ]
  },
  {
   "cell_type": "code",
   "execution_count": 7,
   "id": "8d839c21-6e3e-4826-88cb-b4efdc9749ec",
   "metadata": {},
   "outputs": [],
   "source": [
    "#(ii) // (Reamening)"
   ]
  },
  {
   "cell_type": "code",
   "execution_count": 8,
   "id": "45f1a217-4cdc-4d03-aa10-a8eb83cfba1a",
   "metadata": {},
   "outputs": [
    {
     "data": {
      "text/plain": [
       "1"
      ]
     },
     "execution_count": 8,
     "metadata": {},
     "output_type": "execute_result"
    }
   ],
   "source": [
    "5%2"
   ]
  },
  {
   "cell_type": "code",
   "execution_count": 9,
   "id": "cbe20df1-f9b7-4a61-bc7a-0ab463c5ccca",
   "metadata": {},
   "outputs": [],
   "source": [
    "#(iii) // (floor/ intejar divison)"
   ]
  },
  {
   "cell_type": "code",
   "execution_count": 10,
   "id": "6874abd1-f71b-4391-bcbb-f3fbdb2c1368",
   "metadata": {},
   "outputs": [
    {
     "data": {
      "text/plain": [
       "2"
      ]
     },
     "execution_count": 10,
     "metadata": {},
     "output_type": "execute_result"
    }
   ],
   "source": [
    "5//2"
   ]
  },
  {
   "cell_type": "code",
   "execution_count": 11,
   "id": "8a66c37a-6552-405b-9c89-e3349c434cff",
   "metadata": {},
   "outputs": [],
   "source": [
    "#(iv) ** (Double Star /Power Operator)"
   ]
  },
  {
   "cell_type": "code",
   "execution_count": 12,
   "id": "0f614f32-d3a3-4cac-b4a4-88321552a2dd",
   "metadata": {},
   "outputs": [
    {
     "data": {
      "text/plain": [
       "25"
      ]
     },
     "execution_count": 12,
     "metadata": {},
     "output_type": "execute_result"
    }
   ],
   "source": [
    "5**2"
   ]
  },
  {
   "cell_type": "markdown",
   "id": "c9febcef-6743-4eb6-8d6b-ebf11cccd892",
   "metadata": {},
   "source": [
    "Q4. Create a list of length 10 of your choice containing multiple types of data. Using for loop print the\n",
    "element and its data type."
   ]
  },
  {
   "cell_type": "code",
   "execution_count": 28,
   "id": "91b08fbc-2957-4e73-a9c5-91186a364d04",
   "metadata": {},
   "outputs": [
    {
     "name": "stdout",
     "output_type": "stream",
     "text": [
      "mera <class 'str'>\n",
      "nam <class 'str'>\n",
      "chin <class 'str'>\n",
      "chin <class 'str'>\n",
      "True <class 'bool'>\n",
      "211 <class 'int'>\n",
      "12.2 <class 'float'>\n",
      "(12+1j) <class 'complex'>\n",
      "12 <class 'int'>\n",
      "Hello <class 'str'>\n"
     ]
    }
   ],
   "source": [
    "l = [\"mera\",\"nam\",\"chin\",\"chin\", True , 211,12.2,12+1j,12,\"Hello\" ]\n",
    "for i in l :\n",
    "    print( (i),type (i))"
   ]
  },
  {
   "cell_type": "markdown",
   "id": "d09685a1-10d1-4e19-823f-417a7db1f710",
   "metadata": {},
   "source": [
    "Q5. Using a while loop, verify if the number A is purely divisible by number B and if so then how many\n",
    "times it can be divisible."
   ]
  },
  {
   "cell_type": "markdown",
   "id": "3e85932d-0eaa-4718-8be4-4a95887ef16a",
   "metadata": {},
   "source": [
    "Q6. Create a list containing 25 int type data. Using for loop and if-else condition print if the element is\n",
    "divisible by 3 or not."
   ]
  },
  {
   "cell_type": "code",
   "execution_count": 5,
   "id": "1577fad1-9c09-4b8d-bd8d-5d9cbfc43ad5",
   "metadata": {},
   "outputs": [
    {
     "name": "stdout",
     "output_type": "stream",
     "text": [
      "17 is not divisible by 3\n",
      "8 is not divisible by 3\n",
      "9 is divisible by 3\n",
      "33 is divisible by 3\n",
      "14 is not divisible by 3\n",
      "12 is divisible by 3\n",
      "21 is divisible by 3\n",
      "25 is not divisible by 3\n",
      "6 is divisible by 3\n",
      "19 is not divisible by 3\n",
      "30 is divisible by 3\n",
      "11 is not divisible by 3\n",
      "5 is not divisible by 3\n",
      "27 is divisible by 3\n",
      "13 is not divisible by 3\n",
      "22 is not divisible by 3\n",
      "16 is not divisible by 3\n",
      "3 is divisible by 3\n",
      "20 is not divisible by 3\n",
      "7 is not divisible by 3\n",
      "18 is divisible by 3\n",
      "24 is divisible by 3\n",
      "29 is not divisible by 3\n",
      "10 is not divisible by 3\n",
      "15 is divisible by 3\n"
     ]
    }
   ],
   "source": [
    "# Create a list of 25 integers\n",
    "numbers = [17, 8, 9, 33, 14, 12, 21, 25, 6, 19, 30, 11, 5, 27, 13, 22, 16, 3, 20, 7, 18, 24, 29, 10, 15]\n",
    "\n",
    "# Iterate over each element in the list\n",
    "for num in numbers:\n",
    "    if num % 3 == 0:\n",
    "        print(f\"{num} is divisible by 3\")\n",
    "    else:\n",
    "        print(f\"{num} is not divisible by 3\")\n"
   ]
  },
  {
   "cell_type": "code",
   "execution_count": null,
   "id": "f21fafd8-40af-4c27-a9ba-965ce2cfd020",
   "metadata": {},
   "outputs": [],
   "source": []
  },
  {
   "cell_type": "markdown",
   "id": "1b709470-5ba4-470d-ab8d-24e5f0d8275a",
   "metadata": {},
   "source": [
    "Immutable Data Types:\n",
    "\n",
    "Immutable data types are those whose values cannot be modified once they are assigned.\n",
    "\n",
    "Any attempt to modify an immutable object will result in the creation of a new object with the updated value.\n",
    "\n",
    "Examples of immutable data types in Python include integers, floats, booleans, strings, and tuples.\n",
    "\n",
    "Here's an example to illustrate immutability using a string:"
   ]
  },
  {
   "cell_type": "code",
   "execution_count": 6,
   "id": "b7f7ad88-e0af-48c7-a9e3-68da014b9d66",
   "metadata": {},
   "outputs": [
    {
     "name": "stdout",
     "output_type": "stream",
     "text": [
      "Alice\n"
     ]
    },
    {
     "ename": "TypeError",
     "evalue": "'str' object does not support item assignment",
     "output_type": "error",
     "traceback": [
      "\u001b[0;31m---------------------------------------------------------------------------\u001b[0m",
      "\u001b[0;31mTypeError\u001b[0m                                 Traceback (most recent call last)",
      "Cell \u001b[0;32mIn[6], line 5\u001b[0m\n\u001b[1;32m      2\u001b[0m \u001b[38;5;28mprint\u001b[39m(name)  \u001b[38;5;66;03m# Output: Alice\u001b[39;00m\n\u001b[1;32m      4\u001b[0m \u001b[38;5;66;03m# Attempt to modify the string\u001b[39;00m\n\u001b[0;32m----> 5\u001b[0m \u001b[43mname\u001b[49m\u001b[43m[\u001b[49m\u001b[38;5;241;43m0\u001b[39;49m\u001b[43m]\u001b[49m \u001b[38;5;241m=\u001b[39m \u001b[38;5;124m\"\u001b[39m\u001b[38;5;124mB\u001b[39m\u001b[38;5;124m\"\u001b[39m  \u001b[38;5;66;03m# This will raise a TypeError\u001b[39;00m\n\u001b[1;32m      7\u001b[0m \u001b[38;5;66;03m# The original string remains unchanged\u001b[39;00m\n\u001b[1;32m      8\u001b[0m \u001b[38;5;28mprint\u001b[39m(name)  \u001b[38;5;66;03m# Output: Alice\u001b[39;00m\n",
      "\u001b[0;31mTypeError\u001b[0m: 'str' object does not support item assignment"
     ]
    }
   ],
   "source": [
    "name = \"Alice\"\n",
    "print(name)  # Output: Alice\n",
    "\n",
    "# Attempt to modify the string\n",
    "name[0] = \"B\"  # This will raise a TypeError\n",
    "\n",
    "# The original string remains unchanged\n",
    "print(name)  # Output: Alice\n"
   ]
  },
  {
   "cell_type": "code",
   "execution_count": null,
   "id": "e67e0288-b890-4594-a783-339aa759b972",
   "metadata": {},
   "outputs": [],
   "source": []
  }
 ],
 "metadata": {
  "kernelspec": {
   "display_name": "Python 3 (ipykernel)",
   "language": "python",
   "name": "python3"
  },
  "language_info": {
   "codemirror_mode": {
    "name": "ipython",
    "version": 3
   },
   "file_extension": ".py",
   "mimetype": "text/x-python",
   "name": "python",
   "nbconvert_exporter": "python",
   "pygments_lexer": "ipython3",
   "version": "3.10.8"
  }
 },
 "nbformat": 4,
 "nbformat_minor": 5
}
